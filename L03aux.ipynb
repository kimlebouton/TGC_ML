{
  "nbformat": 4,
  "nbformat_minor": 0,
  "metadata": {
    "kernelspec": {
      "display_name": "Python 3",
      "language": "python",
      "name": "python3"
    },
    "language_info": {
      "codemirror_mode": {
        "name": "ipython",
        "version": 3
      },
      "file_extension": ".py",
      "mimetype": "text/x-python",
      "name": "python",
      "nbconvert_exporter": "python",
      "pygments_lexer": "ipython3",
      "version": "3.6.8"
    },
    "colab": {
      "name": "L03aux.ipynb",
      "provenance": [],
      "include_colab_link": true
    }
  },
  "cells": [
    {
      "cell_type": "markdown",
      "metadata": {
        "id": "view-in-github",
        "colab_type": "text"
      },
      "source": [
        "<a href=\"https://colab.research.google.com/github/kimlebouton/TGC_ML/blob/main/L03aux.ipynb\" target=\"_parent\"><img src=\"https://colab.research.google.com/assets/colab-badge.svg\" alt=\"Open In Colab\"/></a>"
      ]
    },
    {
      "cell_type": "markdown",
      "metadata": {
        "id": "OfX_Bcl9zfVS"
      },
      "source": [
        "In this notebook we train a decison tree to classify words with `ie` from words with the letters `ei` with scikit-learn\n",
        "\n",
        "We'll then visualize it with graphviz"
      ]
    },
    {
      "cell_type": "code",
      "metadata": {
        "id": "QXaPxlM2KRrk"
      },
      "source": [
        "from sklearn import tree\n",
        "import graphviz"
      ],
      "execution_count": null,
      "outputs": []
    },
    {
      "cell_type": "markdown",
      "metadata": {
        "id": "qFqUdojlKQi5"
      },
      "source": [
        "Below we download the data"
      ]
    },
    {
      "cell_type": "code",
      "metadata": {
        "id": "smcZ4HcApw5e",
        "colab": {
          "base_uri": "https://localhost:8080/",
          "height": 391
        },
        "outputId": "ebe22491-ab58-4a69-d059-7f0a3e44a056"
      },
      "source": [
        "!wget https://raw.githubusercontent.com/mlittmancs/great_courses_ml/master/data/ei.txt\n",
        "!wget https://raw.githubusercontent.com/mlittmancs/great_courses_ml/master/data/ie.txt"
      ],
      "execution_count": null,
      "outputs": [
        {
          "output_type": "stream",
          "text": [
            "--2020-05-26 10:20:10--  https://raw.githubusercontent.com/mlittmancs/great_courses_ml/master/data/ei.txt\n",
            "Resolving raw.githubusercontent.com (raw.githubusercontent.com)... 151.101.0.133, 151.101.64.133, 151.101.128.133, ...\n",
            "Connecting to raw.githubusercontent.com (raw.githubusercontent.com)|151.101.0.133|:443... connected.\n",
            "HTTP request sent, awaiting response... 200 OK\n",
            "Length: 2470 (2.4K) [text/plain]\n",
            "Saving to: ‘ei.txt.1’\n",
            "\n",
            "\rei.txt.1              0%[                    ]       0  --.-KB/s               \rei.txt.1            100%[===================>]   2.41K  --.-KB/s    in 0s      \n",
            "\n",
            "2020-05-26 10:20:10 (35.5 MB/s) - ‘ei.txt.1’ saved [2470/2470]\n",
            "\n",
            "--2020-05-26 10:20:11--  https://raw.githubusercontent.com/mlittmancs/great_courses_ml/master/data/ie.txt\n",
            "Resolving raw.githubusercontent.com (raw.githubusercontent.com)... 151.101.0.133, 151.101.64.133, 151.101.128.133, ...\n",
            "Connecting to raw.githubusercontent.com (raw.githubusercontent.com)|151.101.0.133|:443... connected.\n",
            "HTTP request sent, awaiting response... 200 OK\n",
            "Length: 6272 (6.1K) [text/plain]\n",
            "Saving to: ‘ie.txt.1’\n",
            "\n",
            "ie.txt.1            100%[===================>]   6.12K  --.-KB/s    in 0s      \n",
            "\n",
            "2020-05-26 10:20:11 (30.3 MB/s) - ‘ie.txt.1’ saved [6272/6272]\n",
            "\n"
          ],
          "name": "stdout"
        }
      ]
    },
    {
      "cell_type": "markdown",
      "metadata": {
        "id": "1Gh1NWoL9Xk7"
      },
      "source": [
        "Here we define some auxilliary functions:\n",
        "\n",
        "- `features` processes the words and extracts information about them, such as the number of sylables and pronounciation\n",
        "- `featurenames` describes the features listed in `features`"
      ]
    },
    {
      "cell_type": "code",
      "metadata": {
        "id": "3NSD5QENkHrn"
      },
      "source": [
        "# Define some auxillary functions\n",
        "\n",
        "def features(wordline):\n",
        "    vector = []\n",
        "    if \"ie\" in wordline[0]: loc = wordline[0].index(\"ie\")\n",
        "    else: loc = wordline[0].index(\"ei\")\n",
        "    # pronounced as one syllable\n",
        "    vector = vector + [wordline[1][loc] == '-' or wordline[1][loc+1] == '-']\n",
        "    # silent\n",
        "    vector = vector + [wordline[1][loc] == '-' and wordline[1][loc+1] == '-']\n",
        "    # two syllables\n",
        "    vector = vector + [wordline[1][loc] != '-' and wordline[1][loc+1] != '-']\n",
        "    # pronunciation\n",
        "#    for pro in [\"--\", \"-I\", \"A-\", \"E-\", \"I-\", \"e-\", \"ei\", \"i-\", \"iA\", \"iI\", \"ix\", \"x-\", \"-E\",\n",
        "#                \"-a\", \"-e\", \"-x\", \"-y\", \"AE\", \"Ai\", \"Ax\", \"Ix\", \"Y-\", \"iE\", \"ii\", \"y-\", \"yE\",\n",
        "#                \"yI\", \"ye\", \"yx\"]:\n",
        "    # two syllable pronunciation\n",
        "    for pro in [\"ei\", \"iA\", \"iI\", \"ix\", \"AE\", \"Ai\", \"Ax\", \"Ix\", \"iE\", \"ii\", \"yE\", \"yI\", \"ye\", \"yx\"]:\n",
        "        vector = vector + [wordline[1][loc:(loc+2)] == pro]\n",
        "    # two syllable pronunciation\n",
        "    for pro in [\"I\", \"A\", \"E\", \"e\", \"i\", \"x\", \"a\", \"y\", \"Y\"]:\n",
        "        vector = vector + [wordline[1][loc:(loc+2)] == pro+\"-\" or wordline[1][loc:(loc+2)] == \"-\"+pro]\n",
        "    for let in \"abcdefghijklmnopqrstuvwxyz\":\n",
        "    # immediate preceeding, before\n",
        "        if loc > 0: vector = vector + [wordline[0][loc-1] == let]\n",
        "        else: vector = vector + [False]\n",
        "        vector = vector + [let in wordline[0][0:loc]]\n",
        "        # immediate following, after\n",
        "        if loc < len(wordline[0])-2: vector = vector + [wordline[0][loc+2] == let]\n",
        "        else: vector = vector + [False]\n",
        "        vector = vector + [let in wordline[0][(loc+2):]]\n",
        "        # in word at all\n",
        "        vector = vector + [let in wordline[0][(loc+2):]]\n",
        "    return(vector)\n",
        "\n",
        "def featurenames():\n",
        "    vector = []\n",
        "    # pronounced as one syllable\n",
        "    vector = vector + [\"one syllable?\", \"silent?\", \"two syllables?\"]\n",
        "    # pronunciation\n",
        "    for pro in [\"ei\", \"iA\", \"iI\", \"ix\", \"AE\", \"Ai\", \"Ax\", \"Ix\", \"iE\", \"ii\", \"yE\", \"yI\", \"ye\", \"yx\"]:\n",
        "        vector = vector + [\"sounds like \" + pro + \"?\"]\n",
        "    # two syllable pronunciation\n",
        "    for pro in [\"I\", \"A\", \"E\", \"e\", \"i\", \"x\", \"a\", \"y\", \"Y\"]:\n",
        "        vector = vector + [\"sounds like \" + pro + \"?\"]\n",
        "    for let in \"abcdefghijklmnopqrstuvwxyz\":\n",
        "        # immediate preceeding, before\n",
        "        vector = vector + [\"immediately after \" + let + \"?\", \"after \" + let + \"?\"]\n",
        "        # immediate following, after\n",
        "        vector = vector + [\"immediately before \" + let + \"?\", \"before \" + let + \"?\"]\n",
        "        # in word at all\n",
        "        vector = vector + [\"word contains \" + let + \"?\"]\n",
        "    return(vector)"
      ],
      "execution_count": null,
      "outputs": []
    },
    {
      "cell_type": "markdown",
      "metadata": {
        "id": "HsTXtAYyESgf"
      },
      "source": [
        "We'll now combine these functions to load the data into multiple lists:\n",
        "\n",
        "- `dat` contains the information about each word, described in the `features` function\n",
        "- `labs` labels if the word uses `ie` or `ei`\n",
        "- `words` includes each actual word\n",
        "- `pros` describes the pronouciation of each word"
      ]
    },
    {
      "cell_type": "code",
      "metadata": {
        "id": "nj-ExcU5kHro"
      },
      "source": [
        "# Putting together the data set:\n",
        "\n",
        "dat = []\n",
        "labs = []\n",
        "words = []\n",
        "pros = []\n",
        "for file in [\"ie\", \"ei\"]:\n",
        " with open(file+\".txt\", \"r\") as f:\n",
        "   data = f.readlines()\n",
        "   for line in data:\n",
        "    wordline = line.split()\n",
        "    dat = dat + [features(wordline)]\n",
        "    labs = labs + [[\"ie\" in wordline[0]]]\n",
        "    words = words + [wordline[0]]\n",
        "    pros = pros + [wordline[1]]"
      ],
      "execution_count": null,
      "outputs": []
    },
    {
      "cell_type": "markdown",
      "metadata": {
        "id": "6xHFhQ-FHtQ7"
      },
      "source": [
        "We can now train the decision tree classifer using 8 decision rules and calculate the number of words we get correct with this model"
      ]
    },
    {
      "cell_type": "code",
      "metadata": {
        "id": "257vwFobkHrq",
        "colab": {
          "base_uri": "https://localhost:8080/",
          "height": 34
        },
        "outputId": "f6f5d7c4-d5ab-4e90-b65c-63bb93c9d32f"
      },
      "source": [
        "# Set up the learner and run it on the data, then compute the accuracy and print it\n",
        "clf = tree.DecisionTreeClassifier(max_leaf_nodes=8)\n",
        "clf = clf.fit(dat, labs)\n",
        "correct = 0\n",
        "for i in range(len(words)):\n",
        "    if clf.predict([features([words[i], pros[i]])]) == labs[i]: correct = correct + 1\n",
        "print(correct)"
      ],
      "execution_count": null,
      "outputs": [
        {
          "output_type": "stream",
          "text": [
            "425\n"
          ],
          "name": "stdout"
        }
      ]
    },
    {
      "cell_type": "markdown",
      "metadata": {
        "id": "8YSMYXhtLngw"
      },
      "source": [
        "We can now extract the names of the features to use in the diagram of the decision tree and plot the diagram"
      ]
    },
    {
      "cell_type": "code",
      "metadata": {
        "id": "9kjYgCqckHrs",
        "colab": {
          "base_uri": "https://localhost:8080/",
          "height": 1000
        },
        "outputId": "e090bb09-3b7a-4aac-b68a-11928a1eb897"
      },
      "source": [
        "feats = featurenames()\n",
        "\n",
        "# Draw the tree!\n",
        "\n",
        "\n",
        "# dot_data = tree.export_graphviz(clf, out_file=None)\n",
        "# graph = graphviz.Source(dot_data)\n",
        "# graph.render(\"iris\")\n",
        "dot_data = tree.export_graphviz(clf, out_file=None,\n",
        "                      feature_names=feats,\n",
        "                      class_names=[\"ei\",\"ie\"],\n",
        "                      filled=True, rounded=True,\n",
        "                      special_characters=True)\n",
        "graph = graphviz.Source(dot_data)\n",
        "graph\n"
      ],
      "execution_count": null,
      "outputs": [
        {
          "output_type": "execute_result",
          "data": {
            "text/plain": [
              "<graphviz.files.Source at 0x7f7cd937ab70>"
            ],
            "image/svg+xml": "<?xml version=\"1.0\" encoding=\"UTF-8\" standalone=\"no\"?>\n<!DOCTYPE svg PUBLIC \"-//W3C//DTD SVG 1.1//EN\"\n \"http://www.w3.org/Graphics/SVG/1.1/DTD/svg11.dtd\">\n<!-- Generated by graphviz version 2.40.1 (20161225.0304)\n -->\n<!-- Title: Tree Pages: 1 -->\n<svg width=\"702pt\" height=\"790pt\"\n viewBox=\"0.00 0.00 701.50 790.00\" xmlns=\"http://www.w3.org/2000/svg\" xmlns:xlink=\"http://www.w3.org/1999/xlink\">\n<g id=\"graph0\" class=\"graph\" transform=\"scale(1 1) rotate(0) translate(4 786)\">\n<title>Tree</title>\n<polygon fill=\"#ffffff\" stroke=\"transparent\" points=\"-4,4 -4,-786 697.5,-786 697.5,4 -4,4\"/>\n<!-- 0 -->\n<g id=\"node1\" class=\"node\">\n<title>0</title>\n<path fill=\"#88c4ef\" stroke=\"#000000\" d=\"M629,-782C629,-782 507,-782 507,-782 501,-782 495,-776 495,-770 495,-770 495,-711 495,-711 495,-705 501,-699 507,-699 507,-699 629,-699 629,-699 635,-699 641,-705 641,-711 641,-711 641,-770 641,-770 641,-776 635,-782 629,-782\"/>\n<text text-anchor=\"start\" x=\"503\" y=\"-766.8\" font-family=\"Helvetica,sans-Serif\" font-size=\"14.00\" fill=\"#000000\">sounds like e? ≤ 0.5</text>\n<text text-anchor=\"start\" x=\"530\" y=\"-751.8\" font-family=\"Helvetica,sans-Serif\" font-size=\"14.00\" fill=\"#000000\">gini = 0.408</text>\n<text text-anchor=\"start\" x=\"520\" y=\"-736.8\" font-family=\"Helvetica,sans-Serif\" font-size=\"14.00\" fill=\"#000000\">samples = 500</text>\n<text text-anchor=\"start\" x=\"510\" y=\"-721.8\" font-family=\"Helvetica,sans-Serif\" font-size=\"14.00\" fill=\"#000000\">value = [143, 357]</text>\n<text text-anchor=\"start\" x=\"537.5\" y=\"-706.8\" font-family=\"Helvetica,sans-Serif\" font-size=\"14.00\" fill=\"#000000\">class = ie</text>\n</g>\n<!-- 1 -->\n<g id=\"node2\" class=\"node\">\n<title>1</title>\n<path fill=\"#70b8ec\" stroke=\"#000000\" d=\"M556,-663C556,-663 436,-663 436,-663 430,-663 424,-657 424,-651 424,-651 424,-592 424,-592 424,-586 430,-580 436,-580 436,-580 556,-580 556,-580 562,-580 568,-586 568,-592 568,-592 568,-651 568,-651 568,-657 562,-663 556,-663\"/>\n<text text-anchor=\"start\" x=\"432\" y=\"-647.8\" font-family=\"Helvetica,sans-Serif\" font-size=\"14.00\" fill=\"#000000\">sounds like iI? ≤ 0.5</text>\n<text text-anchor=\"start\" x=\"462.5\" y=\"-632.8\" font-family=\"Helvetica,sans-Serif\" font-size=\"14.00\" fill=\"#000000\">gini = 0.34</text>\n<text text-anchor=\"start\" x=\"448\" y=\"-617.8\" font-family=\"Helvetica,sans-Serif\" font-size=\"14.00\" fill=\"#000000\">samples = 455</text>\n<text text-anchor=\"start\" x=\"442\" y=\"-602.8\" font-family=\"Helvetica,sans-Serif\" font-size=\"14.00\" fill=\"#000000\">value = [99, 356]</text>\n<text text-anchor=\"start\" x=\"465.5\" y=\"-587.8\" font-family=\"Helvetica,sans-Serif\" font-size=\"14.00\" fill=\"#000000\">class = ie</text>\n</g>\n<!-- 0&#45;&gt;1 -->\n<g id=\"edge1\" class=\"edge\">\n<title>0&#45;&gt;1</title>\n<path fill=\"none\" stroke=\"#000000\" d=\"M542.8179,-698.8796C537.5867,-690.2335 532.0195,-681.0322 526.6177,-672.1042\"/>\n<polygon fill=\"#000000\" stroke=\"#000000\" points=\"529.4608,-670.0421 521.2896,-663.2981 523.4717,-673.6658 529.4608,-670.0421\"/>\n<text text-anchor=\"middle\" x=\"515.316\" y=\"-683.8739\" font-family=\"Helvetica,sans-Serif\" font-size=\"14.00\" fill=\"#000000\">True</text>\n</g>\n<!-- 2 -->\n<g id=\"node15\" class=\"node\">\n<title>2</title>\n<path fill=\"#e6843d\" stroke=\"#000000\" d=\"M681.5,-655.5C681.5,-655.5 598.5,-655.5 598.5,-655.5 592.5,-655.5 586.5,-649.5 586.5,-643.5 586.5,-643.5 586.5,-599.5 586.5,-599.5 586.5,-593.5 592.5,-587.5 598.5,-587.5 598.5,-587.5 681.5,-587.5 681.5,-587.5 687.5,-587.5 693.5,-593.5 693.5,-599.5 693.5,-599.5 693.5,-643.5 693.5,-643.5 693.5,-649.5 687.5,-655.5 681.5,-655.5\"/>\n<text text-anchor=\"start\" x=\"602\" y=\"-640.3\" font-family=\"Helvetica,sans-Serif\" font-size=\"14.00\" fill=\"#000000\">gini = 0.043</text>\n<text text-anchor=\"start\" x=\"596\" y=\"-625.3\" font-family=\"Helvetica,sans-Serif\" font-size=\"14.00\" fill=\"#000000\">samples = 45</text>\n<text text-anchor=\"start\" x=\"594.5\" y=\"-610.3\" font-family=\"Helvetica,sans-Serif\" font-size=\"14.00\" fill=\"#000000\">value = [44, 1]</text>\n<text text-anchor=\"start\" x=\"609.5\" y=\"-595.3\" font-family=\"Helvetica,sans-Serif\" font-size=\"14.00\" fill=\"#000000\">class = ei</text>\n</g>\n<!-- 0&#45;&gt;2 -->\n<g id=\"edge14\" class=\"edge\">\n<title>0&#45;&gt;2</title>\n<path fill=\"none\" stroke=\"#000000\" d=\"M593.1821,-698.8796C599.9017,-687.7735 607.1757,-675.7513 613.9414,-664.5691\"/>\n<polygon fill=\"#000000\" stroke=\"#000000\" points=\"617.0559,-666.1826 619.238,-655.8149 611.0668,-662.5589 617.0559,-666.1826\"/>\n<text text-anchor=\"middle\" x=\"625.2117\" y=\"-676.3908\" font-family=\"Helvetica,sans-Serif\" font-size=\"14.00\" fill=\"#000000\">False</text>\n</g>\n<!-- 3 -->\n<g id=\"node3\" class=\"node\">\n<title>3</title>\n<path fill=\"#68b4eb\" stroke=\"#000000\" d=\"M479,-544C479,-544 379,-544 379,-544 373,-544 367,-538 367,-532 367,-532 367,-473 367,-473 367,-467 373,-461 379,-461 379,-461 479,-461 479,-461 485,-461 491,-467 491,-473 491,-473 491,-532 491,-532 491,-538 485,-544 479,-544\"/>\n<text text-anchor=\"start\" x=\"380.5\" y=\"-528.8\" font-family=\"Helvetica,sans-Serif\" font-size=\"14.00\" fill=\"#000000\">before g? ≤ 0.5</text>\n<text text-anchor=\"start\" x=\"391\" y=\"-513.8\" font-family=\"Helvetica,sans-Serif\" font-size=\"14.00\" fill=\"#000000\">gini = 0.309</text>\n<text text-anchor=\"start\" x=\"381\" y=\"-498.8\" font-family=\"Helvetica,sans-Serif\" font-size=\"14.00\" fill=\"#000000\">samples = 440</text>\n<text text-anchor=\"start\" x=\"375\" y=\"-483.8\" font-family=\"Helvetica,sans-Serif\" font-size=\"14.00\" fill=\"#000000\">value = [84, 356]</text>\n<text text-anchor=\"start\" x=\"398.5\" y=\"-468.8\" font-family=\"Helvetica,sans-Serif\" font-size=\"14.00\" fill=\"#000000\">class = ie</text>\n</g>\n<!-- 1&#45;&gt;3 -->\n<g id=\"edge2\" class=\"edge\">\n<title>1&#45;&gt;3</title>\n<path fill=\"none\" stroke=\"#000000\" d=\"M472.5667,-579.8796C467.6987,-571.2335 462.5181,-562.0322 457.4914,-553.1042\"/>\n<polygon fill=\"#000000\" stroke=\"#000000\" points=\"460.4893,-551.2947 452.5334,-544.2981 454.3897,-554.729 460.4893,-551.2947\"/>\n</g>\n<!-- 4 -->\n<g id=\"node14\" class=\"node\">\n<title>4</title>\n<path fill=\"#e58139\" stroke=\"#000000\" d=\"M604.5,-536.5C604.5,-536.5 521.5,-536.5 521.5,-536.5 515.5,-536.5 509.5,-530.5 509.5,-524.5 509.5,-524.5 509.5,-480.5 509.5,-480.5 509.5,-474.5 515.5,-468.5 521.5,-468.5 521.5,-468.5 604.5,-468.5 604.5,-468.5 610.5,-468.5 616.5,-474.5 616.5,-480.5 616.5,-480.5 616.5,-524.5 616.5,-524.5 616.5,-530.5 610.5,-536.5 604.5,-536.5\"/>\n<text text-anchor=\"start\" x=\"533.5\" y=\"-521.3\" font-family=\"Helvetica,sans-Serif\" font-size=\"14.00\" fill=\"#000000\">gini = 0.0</text>\n<text text-anchor=\"start\" x=\"519\" y=\"-506.3\" font-family=\"Helvetica,sans-Serif\" font-size=\"14.00\" fill=\"#000000\">samples = 15</text>\n<text text-anchor=\"start\" x=\"517.5\" y=\"-491.3\" font-family=\"Helvetica,sans-Serif\" font-size=\"14.00\" fill=\"#000000\">value = [15, 0]</text>\n<text text-anchor=\"start\" x=\"532.5\" y=\"-476.3\" font-family=\"Helvetica,sans-Serif\" font-size=\"14.00\" fill=\"#000000\">class = ei</text>\n</g>\n<!-- 1&#45;&gt;4 -->\n<g id=\"edge13\" class=\"edge\">\n<title>1&#45;&gt;4</title>\n<path fill=\"none\" stroke=\"#000000\" d=\"M519.4333,-579.8796C525.6863,-568.7735 532.4552,-556.7513 538.751,-545.5691\"/>\n<polygon fill=\"#000000\" stroke=\"#000000\" points=\"541.8235,-547.2459 543.6798,-536.8149 535.7239,-543.8116 541.8235,-547.2459\"/>\n</g>\n<!-- 5 -->\n<g id=\"node4\" class=\"node\">\n<title>5</title>\n<path fill=\"#63b2eb\" stroke=\"#000000\" d=\"M423,-425C423,-425 281,-425 281,-425 275,-425 269,-419 269,-413 269,-413 269,-354 269,-354 269,-348 275,-342 281,-342 281,-342 423,-342 423,-342 429,-342 435,-348 435,-354 435,-354 435,-413 435,-413 435,-419 429,-425 423,-425\"/>\n<text text-anchor=\"start\" x=\"277\" y=\"-409.8\" font-family=\"Helvetica,sans-Serif\" font-size=\"14.00\" fill=\"#000000\">word contains m? ≤ 0.5</text>\n<text text-anchor=\"start\" x=\"314\" y=\"-394.8\" font-family=\"Helvetica,sans-Serif\" font-size=\"14.00\" fill=\"#000000\">gini = 0.289</text>\n<text text-anchor=\"start\" x=\"304\" y=\"-379.8\" font-family=\"Helvetica,sans-Serif\" font-size=\"14.00\" fill=\"#000000\">samples = 423</text>\n<text text-anchor=\"start\" x=\"298\" y=\"-364.8\" font-family=\"Helvetica,sans-Serif\" font-size=\"14.00\" fill=\"#000000\">value = [74, 349]</text>\n<text text-anchor=\"start\" x=\"321.5\" y=\"-349.8\" font-family=\"Helvetica,sans-Serif\" font-size=\"14.00\" fill=\"#000000\">class = ie</text>\n</g>\n<!-- 3&#45;&gt;5 -->\n<g id=\"edge3\" class=\"edge\">\n<title>3&#45;&gt;5</title>\n<path fill=\"none\" stroke=\"#000000\" d=\"M402.0691,-460.8796C396.4163,-452.1434 390.3967,-442.8404 384.5634,-433.8253\"/>\n<polygon fill=\"#000000\" stroke=\"#000000\" points=\"387.4169,-431.7924 379.0458,-425.2981 381.5399,-435.5952 387.4169,-431.7924\"/>\n</g>\n<!-- 6 -->\n<g id=\"node13\" class=\"node\">\n<title>6</title>\n<path fill=\"#f7d9c4\" stroke=\"#000000\" d=\"M548.5,-417.5C548.5,-417.5 465.5,-417.5 465.5,-417.5 459.5,-417.5 453.5,-411.5 453.5,-405.5 453.5,-405.5 453.5,-361.5 453.5,-361.5 453.5,-355.5 459.5,-349.5 465.5,-349.5 465.5,-349.5 548.5,-349.5 548.5,-349.5 554.5,-349.5 560.5,-355.5 560.5,-361.5 560.5,-361.5 560.5,-405.5 560.5,-405.5 560.5,-411.5 554.5,-417.5 548.5,-417.5\"/>\n<text text-anchor=\"start\" x=\"469\" y=\"-402.3\" font-family=\"Helvetica,sans-Serif\" font-size=\"14.00\" fill=\"#000000\">gini = 0.484</text>\n<text text-anchor=\"start\" x=\"463\" y=\"-387.3\" font-family=\"Helvetica,sans-Serif\" font-size=\"14.00\" fill=\"#000000\">samples = 17</text>\n<text text-anchor=\"start\" x=\"461.5\" y=\"-372.3\" font-family=\"Helvetica,sans-Serif\" font-size=\"14.00\" fill=\"#000000\">value = [10, 7]</text>\n<text text-anchor=\"start\" x=\"476.5\" y=\"-357.3\" font-family=\"Helvetica,sans-Serif\" font-size=\"14.00\" fill=\"#000000\">class = ei</text>\n</g>\n<!-- 3&#45;&gt;6 -->\n<g id=\"edge12\" class=\"edge\">\n<title>3&#45;&gt;6</title>\n<path fill=\"none\" stroke=\"#000000\" d=\"M456.2806,-460.8796C463.6323,-449.6636 471.5964,-437.5131 478.9874,-426.2372\"/>\n<polygon fill=\"#000000\" stroke=\"#000000\" points=\"481.9531,-428.0972 484.5079,-417.8149 476.0986,-424.2598 481.9531,-428.0972\"/>\n</g>\n<!-- 7 -->\n<g id=\"node5\" class=\"node\">\n<title>7</title>\n<path fill=\"#60b0ea\" stroke=\"#000000\" d=\"M341.5,-306C341.5,-306 218.5,-306 218.5,-306 212.5,-306 206.5,-300 206.5,-294 206.5,-294 206.5,-235 206.5,-235 206.5,-229 212.5,-223 218.5,-223 218.5,-223 341.5,-223 341.5,-223 347.5,-223 353.5,-229 353.5,-235 353.5,-235 353.5,-294 353.5,-294 353.5,-300 347.5,-306 341.5,-306\"/>\n<text text-anchor=\"start\" x=\"214.5\" y=\"-290.8\" font-family=\"Helvetica,sans-Serif\" font-size=\"14.00\" fill=\"#000000\">sounds like E? ≤ 0.5</text>\n<text text-anchor=\"start\" x=\"242\" y=\"-275.8\" font-family=\"Helvetica,sans-Serif\" font-size=\"14.00\" fill=\"#000000\">gini = 0.275</text>\n<text text-anchor=\"start\" x=\"232\" y=\"-260.8\" font-family=\"Helvetica,sans-Serif\" font-size=\"14.00\" fill=\"#000000\">samples = 413</text>\n<text text-anchor=\"start\" x=\"226\" y=\"-245.8\" font-family=\"Helvetica,sans-Serif\" font-size=\"14.00\" fill=\"#000000\">value = [68, 345]</text>\n<text text-anchor=\"start\" x=\"249.5\" y=\"-230.8\" font-family=\"Helvetica,sans-Serif\" font-size=\"14.00\" fill=\"#000000\">class = ie</text>\n</g>\n<!-- 5&#45;&gt;7 -->\n<g id=\"edge4\" class=\"edge\">\n<title>5&#45;&gt;7</title>\n<path fill=\"none\" stroke=\"#000000\" d=\"M326.8179,-341.8796C321.5867,-333.2335 316.0195,-324.0322 310.6177,-315.1042\"/>\n<polygon fill=\"#000000\" stroke=\"#000000\" points=\"313.4608,-313.0421 305.2896,-306.2981 307.4717,-316.6658 313.4608,-313.0421\"/>\n</g>\n<!-- 8 -->\n<g id=\"node12\" class=\"node\">\n<title>8</title>\n<path fill=\"#f6d5bd\" stroke=\"#000000\" d=\"M464,-298.5C464,-298.5 384,-298.5 384,-298.5 378,-298.5 372,-292.5 372,-286.5 372,-286.5 372,-242.5 372,-242.5 372,-236.5 378,-230.5 384,-230.5 384,-230.5 464,-230.5 464,-230.5 470,-230.5 476,-236.5 476,-242.5 476,-242.5 476,-286.5 476,-286.5 476,-292.5 470,-298.5 464,-298.5\"/>\n<text text-anchor=\"start\" x=\"390.5\" y=\"-283.3\" font-family=\"Helvetica,sans-Serif\" font-size=\"14.00\" fill=\"#000000\">gini = 0.48</text>\n<text text-anchor=\"start\" x=\"380\" y=\"-268.3\" font-family=\"Helvetica,sans-Serif\" font-size=\"14.00\" fill=\"#000000\">samples = 10</text>\n<text text-anchor=\"start\" x=\"382.5\" y=\"-253.3\" font-family=\"Helvetica,sans-Serif\" font-size=\"14.00\" fill=\"#000000\">value = [6, 4]</text>\n<text text-anchor=\"start\" x=\"393.5\" y=\"-238.3\" font-family=\"Helvetica,sans-Serif\" font-size=\"14.00\" fill=\"#000000\">class = ei</text>\n</g>\n<!-- 5&#45;&gt;8 -->\n<g id=\"edge11\" class=\"edge\">\n<title>5&#45;&gt;8</title>\n<path fill=\"none\" stroke=\"#000000\" d=\"M377.1821,-341.8796C383.9017,-330.7735 391.1757,-318.7513 397.9414,-307.5691\"/>\n<polygon fill=\"#000000\" stroke=\"#000000\" points=\"401.0559,-309.1826 403.238,-298.8149 395.0668,-305.5589 401.0559,-309.1826\"/>\n</g>\n<!-- 9 -->\n<g id=\"node6\" class=\"node\">\n<title>9</title>\n<path fill=\"#5dafea\" stroke=\"#000000\" d=\"M266,-187C266,-187 100,-187 100,-187 94,-187 88,-181 88,-175 88,-175 88,-116 88,-116 88,-110 94,-104 100,-104 100,-104 266,-104 266,-104 272,-104 278,-110 278,-116 278,-116 278,-175 278,-175 278,-181 272,-187 266,-187\"/>\n<text text-anchor=\"start\" x=\"96\" y=\"-171.8\" font-family=\"Helvetica,sans-Serif\" font-size=\"14.00\" fill=\"#000000\">immediately before t? ≤ 0.5</text>\n<text text-anchor=\"start\" x=\"145\" y=\"-156.8\" font-family=\"Helvetica,sans-Serif\" font-size=\"14.00\" fill=\"#000000\">gini = 0.263</text>\n<text text-anchor=\"start\" x=\"135\" y=\"-141.8\" font-family=\"Helvetica,sans-Serif\" font-size=\"14.00\" fill=\"#000000\">samples = 405</text>\n<text text-anchor=\"start\" x=\"129\" y=\"-126.8\" font-family=\"Helvetica,sans-Serif\" font-size=\"14.00\" fill=\"#000000\">value = [63, 342]</text>\n<text text-anchor=\"start\" x=\"152.5\" y=\"-111.8\" font-family=\"Helvetica,sans-Serif\" font-size=\"14.00\" fill=\"#000000\">class = ie</text>\n</g>\n<!-- 7&#45;&gt;9 -->\n<g id=\"edge5\" class=\"edge\">\n<title>7&#45;&gt;9</title>\n<path fill=\"none\" stroke=\"#000000\" d=\"M246.0741,-222.8796C238.8062,-213.9633 231.057,-204.4565 223.5672,-195.268\"/>\n<polygon fill=\"#000000\" stroke=\"#000000\" points=\"226.1018,-192.8379 217.0707,-187.2981 220.676,-197.2606 226.1018,-192.8379\"/>\n</g>\n<!-- 10 -->\n<g id=\"node9\" class=\"node\">\n<title>10</title>\n<path fill=\"#f5cdb0\" stroke=\"#000000\" d=\"M446,-187C446,-187 308,-187 308,-187 302,-187 296,-181 296,-175 296,-175 296,-116 296,-116 296,-110 302,-104 308,-104 308,-104 446,-104 446,-104 452,-104 458,-110 458,-116 458,-116 458,-175 458,-175 458,-181 452,-187 446,-187\"/>\n<text text-anchor=\"start\" x=\"304\" y=\"-171.8\" font-family=\"Helvetica,sans-Serif\" font-size=\"14.00\" fill=\"#000000\">word contains d? ≤ 0.5</text>\n<text text-anchor=\"start\" x=\"339\" y=\"-156.8\" font-family=\"Helvetica,sans-Serif\" font-size=\"14.00\" fill=\"#000000\">gini = 0.469</text>\n<text text-anchor=\"start\" x=\"337.5\" y=\"-141.8\" font-family=\"Helvetica,sans-Serif\" font-size=\"14.00\" fill=\"#000000\">samples = 8</text>\n<text text-anchor=\"start\" x=\"335.5\" y=\"-126.8\" font-family=\"Helvetica,sans-Serif\" font-size=\"14.00\" fill=\"#000000\">value = [5, 3]</text>\n<text text-anchor=\"start\" x=\"346.5\" y=\"-111.8\" font-family=\"Helvetica,sans-Serif\" font-size=\"14.00\" fill=\"#000000\">class = ei</text>\n</g>\n<!-- 7&#45;&gt;10 -->\n<g id=\"edge8\" class=\"edge\">\n<title>7&#45;&gt;10</title>\n<path fill=\"none\" stroke=\"#000000\" d=\"M313.9259,-222.8796C321.1938,-213.9633 328.943,-204.4565 336.4328,-195.268\"/>\n<polygon fill=\"#000000\" stroke=\"#000000\" points=\"339.324,-197.2606 342.9293,-187.2981 333.8982,-192.8379 339.324,-197.2606\"/>\n</g>\n<!-- 13 -->\n<g id=\"node7\" class=\"node\">\n<title>13</title>\n<path fill=\"#58ace9\" stroke=\"#000000\" d=\"M112,-68C112,-68 12,-68 12,-68 6,-68 0,-62 0,-56 0,-56 0,-12 0,-12 0,-6 6,0 12,0 12,0 112,0 112,0 118,0 124,-6 124,-12 124,-12 124,-56 124,-56 124,-62 118,-68 112,-68\"/>\n<text text-anchor=\"start\" x=\"24\" y=\"-52.8\" font-family=\"Helvetica,sans-Serif\" font-size=\"14.00\" fill=\"#000000\">gini = 0.234</text>\n<text text-anchor=\"start\" x=\"14\" y=\"-37.8\" font-family=\"Helvetica,sans-Serif\" font-size=\"14.00\" fill=\"#000000\">samples = 363</text>\n<text text-anchor=\"start\" x=\"8\" y=\"-22.8\" font-family=\"Helvetica,sans-Serif\" font-size=\"14.00\" fill=\"#000000\">value = [49, 314]</text>\n<text text-anchor=\"start\" x=\"31.5\" y=\"-7.8\" font-family=\"Helvetica,sans-Serif\" font-size=\"14.00\" fill=\"#000000\">class = ie</text>\n</g>\n<!-- 9&#45;&gt;13 -->\n<g id=\"edge6\" class=\"edge\">\n<title>9&#45;&gt;13</title>\n<path fill=\"none\" stroke=\"#000000\" d=\"M137.9441,-103.9815C127.7709,-94.607 116.9733,-84.6572 106.8102,-75.2921\"/>\n<polygon fill=\"#000000\" stroke=\"#000000\" points=\"108.9087,-72.4663 99.183,-68.2637 104.1651,-77.6141 108.9087,-72.4663\"/>\n</g>\n<!-- 14 -->\n<g id=\"node8\" class=\"node\">\n<title>14</title>\n<path fill=\"#9ccef2\" stroke=\"#000000\" d=\"M246,-68C246,-68 154,-68 154,-68 148,-68 142,-62 142,-56 142,-56 142,-12 142,-12 142,-6 148,0 154,0 154,0 246,0 246,0 252,0 258,-6 258,-12 258,-12 258,-56 258,-56 258,-62 252,-68 246,-68\"/>\n<text text-anchor=\"start\" x=\"162\" y=\"-52.8\" font-family=\"Helvetica,sans-Serif\" font-size=\"14.00\" fill=\"#000000\">gini = 0.444</text>\n<text text-anchor=\"start\" x=\"156\" y=\"-37.8\" font-family=\"Helvetica,sans-Serif\" font-size=\"14.00\" fill=\"#000000\">samples = 42</text>\n<text text-anchor=\"start\" x=\"150\" y=\"-22.8\" font-family=\"Helvetica,sans-Serif\" font-size=\"14.00\" fill=\"#000000\">value = [14, 28]</text>\n<text text-anchor=\"start\" x=\"169.5\" y=\"-7.8\" font-family=\"Helvetica,sans-Serif\" font-size=\"14.00\" fill=\"#000000\">class = ie</text>\n</g>\n<!-- 9&#45;&gt;14 -->\n<g id=\"edge7\" class=\"edge\">\n<title>9&#45;&gt;14</title>\n<path fill=\"none\" stroke=\"#000000\" d=\"M189.3302,-103.9815C190.6053,-95.618 191.9503,-86.7965 193.2395,-78.3409\"/>\n<polygon fill=\"#000000\" stroke=\"#000000\" points=\"196.7286,-78.677 194.7759,-68.2637 189.8086,-77.6219 196.7286,-78.677\"/>\n</g>\n<!-- 11 -->\n<g id=\"node10\" class=\"node\">\n<title>11</title>\n<path fill=\"#e58139\" stroke=\"#000000\" d=\"M397.5,-68C397.5,-68 322.5,-68 322.5,-68 316.5,-68 310.5,-62 310.5,-56 310.5,-56 310.5,-12 310.5,-12 310.5,-6 316.5,0 322.5,0 322.5,0 397.5,0 397.5,0 403.5,0 409.5,-6 409.5,-12 409.5,-12 409.5,-56 409.5,-56 409.5,-62 403.5,-68 397.5,-68\"/>\n<text text-anchor=\"start\" x=\"330.5\" y=\"-52.8\" font-family=\"Helvetica,sans-Serif\" font-size=\"14.00\" fill=\"#000000\">gini = 0.0</text>\n<text text-anchor=\"start\" x=\"320.5\" y=\"-37.8\" font-family=\"Helvetica,sans-Serif\" font-size=\"14.00\" fill=\"#000000\">samples = 5</text>\n<text text-anchor=\"start\" x=\"318.5\" y=\"-22.8\" font-family=\"Helvetica,sans-Serif\" font-size=\"14.00\" fill=\"#000000\">value = [5, 0]</text>\n<text text-anchor=\"start\" x=\"329.5\" y=\"-7.8\" font-family=\"Helvetica,sans-Serif\" font-size=\"14.00\" fill=\"#000000\">class = ei</text>\n</g>\n<!-- 10&#45;&gt;11 -->\n<g id=\"edge9\" class=\"edge\">\n<title>10&#45;&gt;11</title>\n<path fill=\"none\" stroke=\"#000000\" d=\"M370.6698,-103.9815C369.3947,-95.618 368.0497,-86.7965 366.7605,-78.3409\"/>\n<polygon fill=\"#000000\" stroke=\"#000000\" points=\"370.1914,-77.6219 365.2241,-68.2637 363.2714,-78.677 370.1914,-77.6219\"/>\n</g>\n<!-- 12 -->\n<g id=\"node11\" class=\"node\">\n<title>12</title>\n<path fill=\"#399de5\" stroke=\"#000000\" d=\"M514.5,-68C514.5,-68 439.5,-68 439.5,-68 433.5,-68 427.5,-62 427.5,-56 427.5,-56 427.5,-12 427.5,-12 427.5,-6 433.5,0 439.5,0 439.5,0 514.5,0 514.5,0 520.5,0 526.5,-6 526.5,-12 526.5,-12 526.5,-56 526.5,-56 526.5,-62 520.5,-68 514.5,-68\"/>\n<text text-anchor=\"start\" x=\"447.5\" y=\"-52.8\" font-family=\"Helvetica,sans-Serif\" font-size=\"14.00\" fill=\"#000000\">gini = 0.0</text>\n<text text-anchor=\"start\" x=\"437.5\" y=\"-37.8\" font-family=\"Helvetica,sans-Serif\" font-size=\"14.00\" fill=\"#000000\">samples = 3</text>\n<text text-anchor=\"start\" x=\"435.5\" y=\"-22.8\" font-family=\"Helvetica,sans-Serif\" font-size=\"14.00\" fill=\"#000000\">value = [0, 3]</text>\n<text text-anchor=\"start\" x=\"446.5\" y=\"-7.8\" font-family=\"Helvetica,sans-Serif\" font-size=\"14.00\" fill=\"#000000\">class = ie</text>\n</g>\n<!-- 10&#45;&gt;12 -->\n<g id=\"edge10\" class=\"edge\">\n<title>10&#45;&gt;12</title>\n<path fill=\"none\" stroke=\"#000000\" d=\"M414.2363,-103.9815C422.4791,-94.7908 431.2178,-85.0472 439.4721,-75.8436\"/>\n<polygon fill=\"#000000\" stroke=\"#000000\" points=\"442.1991,-78.0451 446.2702,-68.2637 436.9879,-73.3714 442.1991,-78.0451\"/>\n</g>\n</g>\n</svg>\n"
          },
          "metadata": {
            "tags": []
          },
          "execution_count": 12
        }
      ]
    },
    {
      "cell_type": "code",
      "metadata": {
        "id": "mYsz4WQGqI-u"
      },
      "source": [],
      "execution_count": null,
      "outputs": []
    }
  ]
}