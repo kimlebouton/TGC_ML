{
  "nbformat": 4,
  "nbformat_minor": 0,
  "metadata": {
    "colab": {
      "name": "L01qs.ipynb",
      "provenance": []
    },
    "language_info": {
      "codemirror_mode": {
        "name": "ipython",
        "version": 3
      },
      "file_extension": ".py",
      "mimetype": "text/x-python",
      "name": "python",
      "nbconvert_exporter": "python",
      "pygments_lexer": "ipython3",
      "version": "3.6.8"
    },
    "kernelspec": {
      "display_name": "Python 3",
      "language": "python",
      "name": "python3"
    }
  },
  "cells": [
    {
      "cell_type": "markdown",
      "metadata": {
        "id": "JOhk6w7s2A5B"
      },
      "source": [
        "The lecture includes pseudocode for a rule in a representational space in which a pixel’s color is compared to a prototype color and is considered “green” if the distance is less than a threshold.\n",
        "\n",
        "if distance(c, studio_Image[x][y]) <= d:\n",
        "\n",
        "Write a Python function that would compute this distance. Assume the input is twoo 3-element lists representing the amount of red, green, and blue in each of two pixels. The distance between two points in three-dimensional space is the square root of the sum of the squares of the difference between their components."
      ]
    },
    {
      "cell_type": "code",
      "metadata": {
        "id": "0ug1GP-yzb7R"
      },
      "source": [
        "import math\n",
        "def distance(c1, c2):\n",
        "  return(math.sqrt((c1[0]-c2[0])**2 + (c1[1]-c2[1])**2 +(c1[2]-c2[2])**2))"
      ],
      "execution_count": null,
      "outputs": []
    }
  ]
}